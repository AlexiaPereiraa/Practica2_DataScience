{
 "cells": [
  {
   "cell_type": "markdown",
   "source": [
    "# Práctica 2\n",
    "\n",
    "Para esta tarea, veremos los datos de vacunas de 2017. El archivo con estos datos está en `/data/NISPUF17.csv`. Para conocer los nombres de las variables de los datos tienes disponible una guía de usuarios de datos en `/data/NIS-PUF17-DUG.pdf`."
   ],
   "metadata": {
    "collapsed": false
   }
  },
  {
   "cell_type": "markdown",
   "source": [
    "## Pregunta 1\n",
    "\n",
    "Escribe una función llamada `proportion_of_education` que devuelva la proporción de niños en el dataset que tuvieron una madre con los niveles de educación: igual a menor de secundaria (<12), secundaria (12), mayor que secundaria pero sin ser universitaria graduada (>12) y con título universitario.\n",
    "\n",
    "Esta función debería devolver un diccionario en forma de (use los números correctos, no redondee los números):\n",
    "\n",
    "```python\n",
    "{\"menor que  secundaria\": 0.2,\n",
    " \"secundaria\": 0.4,\n",
    " \"mayor a secundaria pero no universitaria\": 0.2,\n",
    " \"universitaria\": 0.2}\n",
    "```\n"
   ],
   "metadata": {
    "collapsed": false
   }
  },
  {
   "cell_type": "code",
   "source": [
    "import pandas as pd\n",
    "\n",
    "def proportion_of_education():\n",
    "    data = pd.read_csv(\"../data/NISPUF17.csv\")\n",
    "    return data\n",
    "    # Tu código aquí\n",
    "    pass\n",
    "\n",
    "df = proportion_of_education()\n",
    "total = len(df)\n",
    "total"
   ],
   "metadata": {
    "collapsed": false,
    "ExecuteTime": {
     "end_time": "2024-11-05T13:02:07.478643Z",
     "start_time": "2024-11-05T13:02:03.694916Z"
    }
   },
   "outputs": [
    {
     "data": {
      "text/plain": [
       "28465"
      ]
     },
     "execution_count": 2,
     "metadata": {},
     "output_type": "execute_result"
    }
   ],
   "execution_count": 2
  },
  {
   "metadata": {
    "ExecuteTime": {
     "end_time": "2024-11-05T13:02:07.629864Z",
     "start_time": "2024-11-05T13:02:07.585620Z"
    }
   },
   "cell_type": "code",
   "source": [
    "menor_que_secundaria = df[df[\"EDUC1\"] == 1]\n",
    "menor_que_secundaria\n",
    "q_level_1 = len(menor_que_secundaria)\n",
    "level_1 = q_level_1 / total\n",
    "level_1"
   ],
   "outputs": [
    {
     "data": {
      "text/plain": [
       "0.10202002459160373"
      ]
     },
     "execution_count": 3,
     "metadata": {},
     "output_type": "execute_result"
    }
   ],
   "execution_count": 3
  },
  {
   "metadata": {
    "ExecuteTime": {
     "end_time": "2024-11-05T13:02:07.794264Z",
     "start_time": "2024-11-05T13:02:07.759565Z"
    }
   },
   "cell_type": "code",
   "source": [
    "secundaria = df[df[\"EDUC1\"] == 2]\n",
    "secundaria\n",
    "q_level_2 = len(secundaria)\n",
    "level_2 = q_level_2 / total\n",
    "level_2"
   ],
   "outputs": [
    {
     "data": {
      "text/plain": [
       "0.172352011241876"
      ]
     },
     "execution_count": 4,
     "metadata": {},
     "output_type": "execute_result"
    }
   ],
   "execution_count": 4
  },
  {
   "metadata": {
    "ExecuteTime": {
     "end_time": "2024-11-05T13:02:07.963950Z",
     "start_time": "2024-11-05T13:02:07.922847Z"
    }
   },
   "cell_type": "code",
   "source": [
    "mayor_secundaria_menor_universitaria = df[df[\"EDUC1\"] == 3]\n",
    "mayor_secundaria_menor_universitaria\n",
    "q_level_3 = len(mayor_secundaria_menor_universitaria)\n",
    "level_3 = q_level_3 / total\n",
    "level_3"
   ],
   "outputs": [
    {
     "data": {
      "text/plain": [
       "0.24588090637625154"
      ]
     },
     "execution_count": 5,
     "metadata": {},
     "output_type": "execute_result"
    }
   ],
   "execution_count": 5
  },
  {
   "metadata": {
    "ExecuteTime": {
     "end_time": "2024-11-05T13:02:08.147909Z",
     "start_time": "2024-11-05T13:02:08.090597Z"
    }
   },
   "cell_type": "code",
   "source": [
    "universitaria = df[df[\"EDUC1\"] == 4]\n",
    "universitaria\n",
    "q_level_4 = len(universitaria)\n",
    "level_4 = q_level_4 / total\n",
    "level_4"
   ],
   "outputs": [
    {
     "data": {
      "text/plain": [
       "0.47974705779026877"
      ]
     },
     "execution_count": 6,
     "metadata": {},
     "output_type": "execute_result"
    }
   ],
   "execution_count": 6
  },
  {
   "metadata": {
    "ExecuteTime": {
     "end_time": "2024-11-05T13:02:08.192216Z",
     "start_time": "2024-11-05T13:02:08.182520Z"
    }
   },
   "cell_type": "code",
   "source": [
    "educacion = {\"menor que secundaria\": level_1,\n",
    "             \"secundaria\": level_2,\n",
    "             \"mayor que secundaria\": level_3,\n",
    "             \"universitaria\": level_4}\n",
    "educacion"
   ],
   "outputs": [
    {
     "data": {
      "text/plain": [
       "{'menor que secundaria': 0.10202002459160373,\n",
       " 'secundaria': 0.172352011241876,\n",
       " 'mayor que secundaria': 0.24588090637625154,\n",
       " 'universitaria': 0.47974705779026877}"
      ]
     },
     "execution_count": 7,
     "metadata": {},
     "output_type": "execute_result"
    }
   ],
   "execution_count": 7
  },
  {
   "metadata": {},
   "cell_type": "markdown",
   "source": ""
  },
  {
   "metadata": {},
   "cell_type": "markdown",
   "source": ""
  },
  {
   "cell_type": "markdown",
   "source": [
    "## Pregunta 2\n",
    "\n",
    "Exploremos la relación entre ser alimentado con leche materna (fed breast milk) cuando era niño y recibir una vacuna contra la influenza estacional (seasonal influenza) de un proveedor de atención médica.\n",
    "\n",
    "Devuelva una tupla del número promedio de vacunas contra la influenza para aquellos niños que sabemos que recibieron leche materna cuando eran niños y aquellos que sabemos que no."
   ],
   "metadata": {
    "collapsed": false
   }
  },
  {
   "cell_type": "code",
   "source": [
    "def average_influenza_doses():\n",
    "    data = pd.read_csv(\"../data/NISPUF17.csv\")\n",
    "    return data\n",
    "    pass\n",
    "\n",
    "df = average_influenza_doses()\n",
    "total = len(df)\n",
    "total"
   ],
   "metadata": {
    "collapsed": false,
    "ExecuteTime": {
     "end_time": "2024-11-05T13:02:09.726461Z",
     "start_time": "2024-11-05T13:02:08.268346Z"
    }
   },
   "outputs": [
    {
     "data": {
      "text/plain": [
       "28465"
      ]
     },
     "execution_count": 8,
     "metadata": {},
     "output_type": "execute_result"
    }
   ],
   "execution_count": 8
  },
  {
   "metadata": {
    "ExecuteTime": {
     "end_time": "2024-11-05T13:02:09.899307Z",
     "start_time": "2024-11-05T13:02:09.815713Z"
    }
   },
   "cell_type": "code",
   "source": [
    "con_leche_materna = df[df[\"CBF_01\"] == 1]\n",
    "con_leche_materna\n",
    "q_level_1 = len(con_leche_materna)\n",
    "level_1 = q_level_1 / total\n",
    "level_1"
   ],
   "outputs": [
    {
     "data": {
      "text/plain": [
       "0.8523098542069207"
      ]
     },
     "execution_count": 9,
     "metadata": {},
     "output_type": "execute_result"
    }
   ],
   "execution_count": 9
  },
  {
   "metadata": {
    "ExecuteTime": {
     "end_time": "2024-11-05T13:02:10.046256Z",
     "start_time": "2024-11-05T13:02:10.011812Z"
    }
   },
   "cell_type": "code",
   "source": [
    "sin_leche_materna = df[df[\"CBF_01\"] == 2]\n",
    "sin_leche_materna\n",
    "q_level_2 = len(sin_leche_materna)\n",
    "level_2 = q_level_2 / total\n",
    "level_2"
   ],
   "outputs": [
    {
     "data": {
      "text/plain": [
       "0.14350957316002108"
      ]
     },
     "execution_count": 10,
     "metadata": {},
     "output_type": "execute_result"
    }
   ],
   "execution_count": 10
  },
  {
   "metadata": {
    "ExecuteTime": {
     "end_time": "2024-11-05T13:02:10.174504Z",
     "start_time": "2024-11-05T13:02:10.161525Z"
    }
   },
   "cell_type": "code",
   "source": "print(level_1, \"Niños alimentados con leche materna,\",level_2,\"Niños no alimentados con leche materna\")",
   "outputs": [
    {
     "name": "stdout",
     "output_type": "stream",
     "text": [
      "0.8523098542069207 Niños alimentados con leche materna, 0.14350957316002108 Niños no alimentados con leche materna\n"
     ]
    }
   ],
   "execution_count": 11
  },
  {
   "metadata": {},
   "cell_type": "markdown",
   "source": [
    "# Pregunta 3\n",
    "\n",
    "Sería interesante ver si hay evidencia de un vínculo entre la efectividad de la vacuna y el sexo del niño.\n",
    "Calcule el ratio entre el número de niños que contrajeron varicela (chickenpox) pero que fueron vacunados contra ella (al menos una dosis) versus los que fueron vacunados y no contrajeron varicela.\n",
    "\n",
    "Devuelve los resultados por sexo.\n",
    "\n",
    "Esta función debería devolver un diccionario en forma de:\n",
    "\n",
    "```python\n",
    "{\"male\": 0.2, \"female\": 0.4}\n",
    "```\n",
    "\n",
    "Nota: Para ayudar en la verificación, el valor de chickenpox_by_sex()['female'] comienza con los dígitos 0.0077."
   ]
  },
  {
   "metadata": {
    "ExecuteTime": {
     "end_time": "2024-11-05T13:04:54.684870Z",
     "start_time": "2024-11-05T13:04:53.218072Z"
    }
   },
   "cell_type": "code",
   "source": [
    "def chickenpox_by_sex():\n",
    "    data = pd.read_csv(\"../data/NISPUF17.csv\")\n",
    "    vacunados = data[data['P_NUMVRC'] >= 1]\n",
    "    \n",
    "    vacunados_con_varicela = vacunados[vacunados['HAD_CPOX'] == 1].groupby('SEX').size()\n",
    "    vacunados_sin_varicela = vacunados[vacunados['HAD_CPOX'] == 2].groupby('SEX').size()\n",
    "    \n",
    "    ratio_segun_sexo = vacunados_con_varicela / vacunados_sin_varicela\n",
    "        \n",
    "    # Convertir el índice numérico de sexo a las etiquetas de \"male\" y \"female\"\n",
    "    result = {\"male\": ratio_segun_sexo.get(1, 0).item(), \n",
    "              \"female\": ratio_segun_sexo.get(2, 0).item()}\n",
    "    return result\n",
    " \n",
    "\n",
    "chickenpox_by_sex()"
   ],
   "outputs": [
    {
     "data": {
      "text/plain": [
       "{'male': 0.009675583380762664, 'female': 0.0077918259335489565}"
      ]
     },
     "execution_count": 15,
     "metadata": {},
     "output_type": "execute_result"
    }
   ],
   "execution_count": 15
  }
 ],
 "metadata": {
  "kernelspec": {
   "display_name": "Python 3",
   "language": "python",
   "name": "python3"
  },
  "language_info": {
   "codemirror_mode": {
    "name": "ipython",
    "version": 2
   },
   "file_extension": ".py",
   "mimetype": "text/x-python",
   "name": "python",
   "nbconvert_exporter": "python",
   "pygments_lexer": "ipython2",
   "version": "2.7.6"
  }
 },
 "nbformat": 4,
 "nbformat_minor": 0
}
